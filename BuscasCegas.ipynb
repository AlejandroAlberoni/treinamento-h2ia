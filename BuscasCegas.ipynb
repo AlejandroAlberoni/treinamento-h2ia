{
  "nbformat": 4,
  "nbformat_minor": 0,
  "metadata": {
    "colab": {
      "name": "BuscasCegas.ipynb",
      "provenance": []
    },
    "kernelspec": {
      "name": "python3",
      "display_name": "Python 3"
    },
    "language_info": {
      "name": "python"
    }
  },
  "cells": [
    {
      "cell_type": "markdown",
      "source": [
        "# Busca em largura(Breadth First Search)"
      ],
      "metadata": {
        "id": "l5Nh09EN7CSO"
      }
    },
    {
      "cell_type": "code",
      "execution_count": 1,
      "metadata": {
        "colab": {
          "base_uri": "https://localhost:8080/"
        },
        "id": "7xa9zm-Y7AJA",
        "outputId": "af6a293c-0e55-4d3d-dbc4-4bfa3d31a48c"
      },
      "outputs": [
        {
          "output_type": "stream",
          "name": "stdout",
          "text": [
            "[[0, 1, 2], [3, 4, 5], [6, 7, 8]]\n"
          ]
        }
      ],
      "source": [
        "import copy\n",
        "import math\n",
        "import numpy\n",
        "import random\n",
        "\n",
        "\n",
        "def BFS(sliding_blocks, n):\n",
        "    goal1, goal2 = setGoal(n)\n",
        "    queue = [sliding_blocks]\n",
        "    historicoNodes = []\n",
        "    shortestPath = []\n",
        "    while len(queue) > 0:\n",
        "        if checkGoal(queue[0], goal1, goal2):\n",
        "            break\n",
        "        nextNodes = visitNode(queue[0], n)\n",
        "        polishedNodes = polishNodes(nextNodes, historicoNodes)\n",
        "        queue = setQueue(queue, polishedNodes)\n",
        "        historicoNodes.append(queue[0])\n",
        "        queue.pop(0)\n",
        "\n",
        "    return queue[0]\n",
        "\n",
        "\n",
        "def setQueue(queue, nextnodes):\n",
        "    if len(nextnodes) > 0:\n",
        "        for i in nextnodes:\n",
        "            queue.append(i)\n",
        "    return queue\n",
        "\n",
        "\n",
        "def polishNodes(nextnodes, historicoNodes):\n",
        "    polishedNodes = nextnodes.copy()\n",
        "    for i in polishedNodes:\n",
        "        for j in historicoNodes:\n",
        "            if numpy.array_equal(j, i):\n",
        "                polishedNodes.pop(polishedNodes.index(j))\n",
        "                break\n",
        "    return polishedNodes\n",
        "\n",
        "\n",
        "def visitNode(node, n):\n",
        "    nodesToVisit = []\n",
        "    node_raveled = numpy.ravel(node)\n",
        "    index_zero = numpy.where(node_raveled == 0)[0][0]\n",
        "    zcol = index_zero % n\n",
        "    zrow = math.floor(index_zero / n)\n",
        "    if zcol == n-1:\n",
        "        nodesToVisit.append(swap_left(node, zrow, zcol))\n",
        "        if zrow == 0 or zrow == n-1:\n",
        "            if zrow == 0:\n",
        "                nodesToVisit.append(swap_down(node, zrow, zcol))\n",
        "            if zrow == n-1:\n",
        "                nodesToVisit.append(swap_up(node, zrow, zcol))\n",
        "        else:\n",
        "            nodesToVisit.append(swap_up(node, zrow, zcol))\n",
        "            nodesToVisit.append(swap_down(node, zrow, zcol))\n",
        "        return nodesToVisit\n",
        "\n",
        "    if zcol == 0:\n",
        "        nodesToVisit.append(swap_right(node, zrow, zcol))\n",
        "        if zrow == 0 or zrow == n-1:\n",
        "            if zrow == 0:\n",
        "                nodesToVisit.append(swap_down(node, zrow, zcol))\n",
        "            if zrow == n-1:\n",
        "                nodesToVisit.append(swap_up(node, zrow, zcol))\n",
        "        else:\n",
        "            nodesToVisit.append(swap_down(node, zrow, zcol))\n",
        "            nodesToVisit.append(swap_up(node, zrow, zcol))\n",
        "        return nodesToVisit\n",
        "\n",
        "    if zrow == 0 or zrow == n - 1 and (zcol != n - 1 or zcol != 0):\n",
        "        if zrow == 0:\n",
        "            nodesToVisit.append(swap_down(node, zrow, zcol))\n",
        "            nodesToVisit.append(swap_left(node, zrow, zcol))\n",
        "            nodesToVisit.append(swap_right(node, zrow, zcol))\n",
        "            return nodesToVisit\n",
        "        if zrow == n-1:\n",
        "            nodesToVisit.append(swap_up(node, zrow, zcol))\n",
        "            nodesToVisit.append(swap_left(node, zrow, zcol))\n",
        "            nodesToVisit.append(swap_right(node, zrow, zcol))\n",
        "            return nodesToVisit\n",
        "\n",
        "    nodesToVisit.append(swap_up(node, zrow, zcol))\n",
        "    nodesToVisit.append(swap_down(node, zrow, zcol))\n",
        "    nodesToVisit.append(swap_left(node, zrow, zcol))\n",
        "    nodesToVisit.append(swap_right(node, zrow, zcol))\n",
        "    return nodesToVisit\n",
        "\n",
        "\n",
        "def swap_left(node, zrow, zcol):\n",
        "    g = copy.deepcopy(node)\n",
        "    g[zrow][zcol], g[zrow][zcol - 1] = g[zrow][zcol - 1], g[zrow][zcol]\n",
        "    return g\n",
        "\n",
        "\n",
        "def swap_up(node, zrow, zcol):\n",
        "    g = copy.deepcopy(node)\n",
        "    g[zrow][zcol], g[zrow - 1][zcol] = g[zrow - 1][zcol], g[zrow][zcol]\n",
        "    return g\n",
        "\n",
        "\n",
        "def swap_right(node, zrow, zcol):\n",
        "    g = copy.deepcopy(node)\n",
        "    g[zrow][zcol], g[zrow][zcol + 1] = g[zrow][zcol + 1], g[zrow][zcol]\n",
        "    return g\n",
        "\n",
        "\n",
        "def swap_down(node, zrow, zcol):\n",
        "    g = copy.deepcopy(node)\n",
        "    g[zrow][zcol], g[zrow + 1][zcol] = g[zrow + 1][zcol], g[zrow][zcol]\n",
        "    return g\n",
        "\n",
        "\n",
        "def checkGoal(state,goal1,goal2):\n",
        "    state_raveled = numpy.ravel(state)\n",
        "    if numpy.array_equal(state_raveled, goal1) or numpy.array_equal(state_raveled, goal2):\n",
        "        return True\n",
        "    return False\n",
        "\n",
        "def setGoal(n):\n",
        "    tmp = [i for i in range(n*n)]\n",
        "    goal1 = numpy.copy(tmp)\n",
        "    goal2 = numpy.roll(tmp, -1)\n",
        "    return goal1, goal2\n",
        "\n",
        "\n",
        "n = 3 # n*n é o tamanho do game\n",
        "nums = [i for i in range((n*n))]\n",
        "random.shuffle(nums)\n",
        "sliding_blocks = [[nums.pop(nums.index(random.choice(nums)))for j in range(n)] for i in range(n)]\n",
        "solution = BFS(sliding_blocks, n)\n",
        "print(solution)\n",
        "\n",
        "#observação: faltou implementar o reconhecimento dos passos até a solução"
      ]
    },
    {
      "cell_type": "markdown",
      "source": [
        "# Busca em profundidade(Depth First Search)"
      ],
      "metadata": {
        "id": "NjcqAGk07pa0"
      }
    },
    {
      "cell_type": "code",
      "source": [
        ""
      ],
      "metadata": {
        "id": "R7tmHuuL77q2"
      },
      "execution_count": null,
      "outputs": []
    },
    {
      "cell_type": "markdown",
      "source": [
        "Discussão:\n",
        "Busca em largura: Mostrou-se ineficiente no problema dos blocos deslizantes, o algoritmo sem uma estrutura que armazena os nodos visitados torna-se suscetível à entrar em loops, logo a isto leva à problemas de memória com instâncias maiores do jogo. O processamento foi intenso.\n",
        "\n",
        "Busca em profundidade:"
      ],
      "metadata": {
        "id": "N2G7lEOq78HI"
      }
    }
  ]
}