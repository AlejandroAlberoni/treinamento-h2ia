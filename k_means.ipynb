{
  "nbformat": 4,
  "nbformat_minor": 0,
  "metadata": {
    "colab": {
      "name": "k_means",
      "provenance": [],
      "authorship_tag": "ABX9TyMHJa5hVBCSjSsIbh6N2t+p",
      "include_colab_link": true
    },
    "kernelspec": {
      "name": "python3",
      "display_name": "Python 3"
    },
    "language_info": {
      "name": "python"
    }
  },
  "cells": [
    {
      "cell_type": "markdown",
      "metadata": {
        "id": "view-in-github",
        "colab_type": "text"
      },
      "source": [
        "<a href=\"https://colab.research.google.com/github/AlejandroAlberoni/treinamento-h2ia/blob/main/k_means.ipynb\" target=\"_parent\"><img src=\"https://colab.research.google.com/assets/colab-badge.svg\" alt=\"Open In Colab\"/></a>"
      ]
    },
    {
      "cell_type": "markdown",
      "source": [
        "**K-means** is an unsupervisioned machine learning technique. Given total number of clusters, it set data to the closest centroid and then re-calculates the baricenter(a.k.a centroid) till no baricenter relocation is needed."
      ],
      "metadata": {
        "id": "X5VN3zXGJ7lC"
      }
    },
    {
      "cell_type": "markdown",
      "source": [
        "**This notebook uses k-means to cluster the Fisher's iris dataset.**"
      ],
      "metadata": {
        "id": "Ufmr-kKCJdoG"
      }
    },
    {
      "cell_type": "code",
      "execution_count": 1,
      "metadata": {
        "id": "kTPKPECLJOWX"
      },
      "outputs": [],
      "source": [
        "from sklearn.datasets import load_iris\n",
        "from sklearn.decomposition import PCA\n",
        "import matplotlib.pyplot as mpl\n",
        "from copy import deepcopy\n",
        "import pandas\n",
        "import numpy\n",
        "import random\n",
        "import math"
      ]
    },
    {
      "cell_type": "code",
      "source": [
        "iris_rawdata = load_iris()\n",
        "iris_df = pandas.DataFrame(iris_rawdata['data'])\n",
        "pca = PCA(n_components=2)\n",
        "final_components = pca.fit_transform(iris_df)\n",
        "fc_df = pandas.DataFrame(final_components)"
      ],
      "metadata": {
        "id": "IKy4V6HAJVJZ"
      },
      "execution_count": 2,
      "outputs": []
    },
    {
      "cell_type": "code",
      "source": [
        "class Kmeans:\n",
        "    def __init__(self, data, centroids):\n",
        "        self.data = deepcopy(data)\n",
        "        self.centroids = centroids\n",
        "        self.datamap_to_centroids = [0 for i in range(len(self.data))]\n",
        "        self.centroids_coordinates = None\n",
        "        self.last_centroid_is_not_equal = 1\n",
        "\n",
        "    def get_random_centroids(self):\n",
        "        x_min, x_max = self.data[0].min(), self.data[0].max()\n",
        "        y_min, y_max = self.data[1].min(), self.data[1].max()\n",
        "        self.centroids_coordinates = [[random.uniform(x_min, x_max), random.uniform(y_min, y_max)] for i in range(self.centroids)]\n",
        "\n",
        "    def perform(self):\n",
        "        self.get_random_centroids()\n",
        "        while self.last_centroid_is_not_equal:\n",
        "            self.assign_data_to_centroids()\n",
        "            self.adjust_centroids()\n",
        "        self.show_map()\n",
        "\n",
        "    def get_distance_from_centroid(self, point, centroid):\n",
        "        distance = math.sqrt(pow(point[0] - centroid[0], 2) + pow(point[1] - centroid[1], 2))\n",
        "        return distance\n",
        "\n",
        "    def assign_data_to_centroids(self):\n",
        "        for i, row in self.data.iterrows():\n",
        "            point_to_all_centroids = []\n",
        "            for j in self.centroids_coordinates:\n",
        "                point_to_all_centroids.append(self.get_distance_from_centroid([row[0], row[1]], j))\n",
        "            self.datamap_to_centroids[i] = numpy.argmin(point_to_all_centroids)\n",
        "        self.data['group'] = self.datamap_to_centroids\n",
        "\n",
        "    def adjust_centroids(self):\n",
        "        new_centroids = []\n",
        "        for i, v in enumerate(self.centroids_coordinates):\n",
        "            subset = self.data[self.data['group'] == i]\n",
        "            x_mean, y_mean = subset.mean(axis='index')[0], subset.mean(axis='index')[1]\n",
        "            new_centroids.append([x_mean, y_mean])\n",
        "        if new_centroids == self.centroids_coordinates:\n",
        "            self.last_centroid_is_not_equal = 0\n",
        "        self.centroids_coordinates = deepcopy(new_centroids)\n",
        "\n",
        "    def show_map(self):\n",
        "        colors = ['red', 'yellow', 'blue']\n",
        "        map_colors = [colors[i] for i in self.data['group'].to_list()]\n",
        "        mpl.scatter(self.data[0], self.data[1], c=map_colors)\n",
        "        mpl.show()"
      ],
      "metadata": {
        "id": "RWSYh-D2JXiD"
      },
      "execution_count": 3,
      "outputs": []
    },
    {
      "cell_type": "code",
      "source": [
        "kmeans = Kmeans(data=fc_df, centroids=3)\n",
        "kmeans.perform()"
      ],
      "metadata": {
        "colab": {
          "base_uri": "https://localhost:8080/",
          "height": 269
        },
        "id": "WIGd9Ik3JYz9",
        "outputId": "8a65f683-e655-431d-afa3-19c213e7875c"
      },
      "execution_count": 4,
      "outputs": [
        {
          "output_type": "display_data",
          "data": {
            "text/plain": [
              "<Figure size 432x288 with 1 Axes>"
            ],
            "image/png": "[encoded data removed]"
          },
          "metadata": {
            "needs_background": "light"
          }
        }
      ]
    }
  ]
}