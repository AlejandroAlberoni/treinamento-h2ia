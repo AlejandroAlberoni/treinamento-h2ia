{
  "nbformat": 4,
  "nbformat_minor": 0,
  "metadata": {
    "colab": {
      "name": "A*.ipynb",
      "provenance": [],
      "authorship_tag": "ABX9TyOJY4Q6pxI63HgM7cdmkUpl"
    },
    "kernelspec": {
      "name": "python3",
      "display_name": "Python 3"
    },
    "language_info": {
      "name": "python"
    }
  },
  "cells": [
    {
      "cell_type": "markdown",
      "source": [
        "A* algorithm performing 8-puzzle problem\n"
      ],
      "metadata": {
        "id": "Rti2-eNlwYZf"
      }
    },
    {
      "cell_type": "code",
      "source": [
        "import numpy\n",
        "import math\n",
        "import random\n",
        "import copy\n",
        "\n",
        "\n",
        "class Node:\n",
        "    def __init__(self, state):\n",
        "        self.target = [1,2,3,4,5,6,7,8,0]\n",
        "        self.state = copy.deepcopy(state)\n",
        "        self.dim = 3\n",
        "        self.nextstates = []\n",
        "        self.weightedstates = None\n",
        "        self.flatstate = numpy.ravel(self.state)\n",
        "        self.zeroindex = numpy.where(self.flatstate == 0)[0][0]\n",
        "        self.zerorow = math.floor(self.zeroindex / self.dim)\n",
        "        self.zerocol = self.zeroindex % self.dim\n",
        "        self.genstates()\n",
        "        self.getheuristicCost()\n",
        "\n",
        "    def swap(self, i):\n",
        "        r = self.zerorow\n",
        "        c = self.zerocol\n",
        "        if i == 'u':\n",
        "            node = copy.deepcopy(self.state)\n",
        "            node[r][c], node[r - 1][c] = node[r - 1][c], node[r][c]\n",
        "            self.nextstates.append(node)\n",
        "\n",
        "        if i == 'd':\n",
        "            node = copy.deepcopy(self.state)\n",
        "            node[r][c], node[r + 1][c] = node[r + 1][c], node[r][c]\n",
        "            self.nextstates.append(node)\n",
        "\n",
        "        if i == 'r':\n",
        "            node = copy.deepcopy(self.state)\n",
        "            node[r][c], node[r][c + 1] = node[r][c + 1], node[r][c]\n",
        "            self.nextstates.append(node)\n",
        "\n",
        "        if i == 'l':\n",
        "            node = copy.deepcopy(self.state)\n",
        "            node[r][c], node[r][c - 1] = node[r][c - 1], node[r][c]\n",
        "            self.nextstates.append(node)\n",
        "\n",
        "    def genstates(self):\n",
        "        directions = ['u', 'd', 'r', 'l']\n",
        "        dr = [-1, 1, 0, 0]\n",
        "        dc = [0, 0, 1, -1]\n",
        "        for i in range(4):\n",
        "            rr = self.zerorow + dr[i]\n",
        "            cc = self.zerocol + dc[i]\n",
        "            if rr < 0 or cc < 0 or rr >= self.dim or cc >= self.dim:\n",
        "                continue\n",
        "            self.swap(directions[i])\n",
        "\n",
        "    def getheuristicCost(self):\n",
        "        totalcost = []\n",
        "        for j in self.nextstates:\n",
        "            flatstate = numpy.ravel(j)\n",
        "            statecost = 0\n",
        "            for i, v in enumerate(self.target[:-1]):\n",
        "                targetrow = math.floor(i / self.dim)\n",
        "                targetcol = i % self.dim\n",
        "                numindex = numpy.where(flatstate == v)[0][0]\n",
        "                numrow = math.floor(numindex / self.dim)\n",
        "                numcol = numindex % self.dim\n",
        "                statecost += math.fabs(targetrow - numrow)\n",
        "                statecost += math.fabs(targetcol - numcol)\n",
        "            statecost += 1\n",
        "            totalcost.append([j, statecost])\n",
        "        self.weightedstates = copy.deepcopy(totalcost)\n",
        "\n",
        "\n",
        "class Memory:\n",
        "    def __init__(self, initialstate):\n",
        "        self.target = [[1,2,3],[4,5,6],[7,8,0]]\n",
        "        self.nodesvisited = []\n",
        "        self.prioqueue = [initialstate]\n",
        "\n",
        "    def setprioqueue(self, states):\n",
        "        for i in states:\n",
        "            if i[0] in self.nodesvisited or i in self.prioqueue:\n",
        "                continue\n",
        "            self.prioqueue.append(i)\n",
        "\n",
        "    def getnextstate(self):\n",
        "        if len(self.prioqueue) == 1:\n",
        "            return self.prioqueue[0]\n",
        "        less = self.prioqueue[0]\n",
        "        for i in self.prioqueue:\n",
        "            if i[1] < less[1]:\n",
        "                less = i\n",
        "        return less[0]\n",
        "\n",
        "    def popprioqueue(self, item):\n",
        "        if len(self.nodesvisited) == 1:\n",
        "            self.prioqueue.pop(-1)\n",
        "        for i in self.prioqueue:\n",
        "            if i[0] == item:\n",
        "                self.prioqueue.pop(self.prioqueue.index(i))\n",
        "\n",
        "def Astar(memory):\n",
        "    count = 0\n",
        "    while memory.prioqueue:\n",
        "        count += 1\n",
        "        boardconfiguration = Node(memory.getnextstate())\n",
        "        memory.nodesvisited.append(boardconfiguration.state)\n",
        "        memory.popprioqueue(memory.nodesvisited[-1])\n",
        "        memory.setprioqueue(boardconfiguration.weightedstates)\n",
        "        if memory.target == boardconfiguration.state:\n",
        "            end = boardconfiguration.state\n",
        "            break\n",
        "    return f'target: {end}, steps:{count}'\n",
        "\n",
        "firststate = [[1,2,3],[4,5,0],[6,7,8]]\n",
        "memory = Memory(initialstate=firststate)\n",
        "solution = Astar(memory)\n",
        "print(solution)\n"
      ],
      "metadata": {
        "colab": {
          "base_uri": "https://localhost:8080/"
        },
        "id": "iPYzAfBWwgV1",
        "outputId": "308fe3a8-0dfa-499a-fd86-e1380e117e08"
      },
      "execution_count": 5,
      "outputs": [
        {
          "output_type": "stream",
          "name": "stdout",
          "text": [
            "target: [[1, 2, 3], [4, 5, 6], [7, 8, 0]], steps:99\n"
          ]
        }
      ]
    },
    {
      "cell_type": "markdown",
      "source": [
        "Results: A algorithm performs 8-puzzle problem(and many others) very well, even some random starts taking longer, own proved completeness show contrastant results agains breadth-first-search or depth-first-search. Thus algorithm time complexity is mostly defined by his heuristic, whose implementation in this problem were calculating each field distance from target's field position, from each state."
      ],
      "metadata": {
        "id": "BRNxCpoRwzSl"
      }
    }
  ]
}