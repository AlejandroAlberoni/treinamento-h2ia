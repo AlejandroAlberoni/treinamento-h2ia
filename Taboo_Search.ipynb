{
  "nbformat": 4,
  "nbformat_minor": 0,
  "metadata": {
    "colab": {
      "name": "Taboo Search",
      "provenance": [],
      "authorship_tag": "ABX9TyOHamlbF6FGazFuQYIDRDII",
      "include_colab_link": true
    },
    "kernelspec": {
      "name": "python3",
      "display_name": "Python 3"
    },
    "language_info": {
      "name": "python"
    }
  },
  "cells": [
    {
      "cell_type": "markdown",
      "metadata": {
        "id": "view-in-github",
        "colab_type": "text"
      },
      "source": [
        "<a href=\"https://colab.research.google.com/github/AlejandroAlberoni/treinamento-h2ia/blob/main/Taboo_Search.ipynb\" target=\"_parent\"><img src=\"https://colab.research.google.com/assets/colab-badge.svg\" alt=\"Open In Colab\"/></a>"
      ]
    },
    {
      "cell_type": "markdown",
      "source": [
        "Taboo-search is a meta-heuristic algorithm used in many fields and to a large kind of problems such as: embedded circuits desining, scheduling, pattern classification, resources optimization, financial analysis , and many hard NP problems. Taboo-search, instead of getting trapped in local optimals, uses a mechanism that allows itself to accept (determined cycles) lower objective-function states, which makes the algorithm efficiently move to a global optimal. "
      ],
      "metadata": {
        "id": "Lc8p1rAh9ESV"
      }
    },
    {
      "cell_type": "markdown",
      "source": [
        "**This notebook uses Taboo Search to solve binary knapsack problem in python**"
      ],
      "metadata": {
        "id": "AojAv2SNB8AK"
      }
    },
    {
      "cell_type": "markdown",
      "source": [
        "Given object weights and values, and maximum weight limit for the knapsack:\n",
        "\n",
        "\n",
        "\n",
        "![knapsack.png](data:image/png;base64,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)"
      ],
      "metadata": {
        "id": "WK7IRlq3CKvf"
      }
    },
    {
      "cell_type": "code",
      "execution_count": 1,
      "metadata": {
        "id": "5K3HP1F58_tY"
      },
      "outputs": [],
      "source": [
        "from copy import deepcopy\n",
        "import random\n",
        "\n",
        "MAX_WEIGHT = 275\n",
        "weight = [63, 21, 2, 32, 13, 80, 19, 37, 56, 41, 14, 8, 32, 42, 7]\n",
        "value = [13, 2, 20, 10, 7, 14, 7, 2, 2, 4, 16, 17, 17, 3, 21]\n",
        "items = {i: v for i, v in enumerate(zip(weight, value))}"
      ]
    },
    {
      "cell_type": "code",
      "source": [
        "class Knapsack:\n",
        "    def __init__(self):\n",
        "        self.items = items\n",
        "        self.neighbors = None\n",
        "        self.arrange = None\n",
        "\n",
        "    def set_arrange(self, arrange):\n",
        "        self.arrange = arrange\n",
        "        self.set_neighbors()\n",
        "\n",
        "    def set_neighbors(self):\n",
        "        self.neighbors = []\n",
        "        for i, v in enumerate(self.arrange):\n",
        "            tmp = deepcopy(self.arrange)\n",
        "            if v:\n",
        "                tmp[i] = 0\n",
        "            else:\n",
        "                tmp[i] = 1\n",
        "            self.neighbors.append(tmp)"
      ],
      "metadata": {
        "id": "1BG1XUoE9l-I"
      },
      "execution_count": 2,
      "outputs": []
    },
    {
      "cell_type": "code",
      "source": [
        "class TabooGuider:\n",
        "    def __init__(self, best_solution):\n",
        "        self.items = items\n",
        "        self.maxiter = 300\n",
        "        self.tabooTime = []\n",
        "        self.tabooList = []\n",
        "        self.classifiedCombinations = None\n",
        "        self.best_solution = best_solution\n",
        "\n",
        "    def set_taboo_list(self, arrange):\n",
        "        if arrange in self.tabooList:\n",
        "            print(\"Error detected\")\n",
        "        if arrange not in self.tabooList:\n",
        "            self.tabooList.append(arrange)\n",
        "            self.tabooTime.append(self.maxiter)\n",
        "\n",
        "    def perform_taboo_list(self):\n",
        "        indexes_to_exclude = []\n",
        "        for i, v in enumerate(self.tabooTime):\n",
        "            v -= 1\n",
        "            if v == 0:\n",
        "                indexes_to_exclude.append(i)\n",
        "        if indexes_to_exclude:\n",
        "            for i in indexes_to_exclude:\n",
        "                self.tabooList.pop(i)\n",
        "                self.tabooTime.pop(i)\n",
        "\n",
        "    def get_classified_arrange(self, arrange):\n",
        "        current_weight = 0\n",
        "        current_value = 0\n",
        "        for i, v in enumerate(arrange):\n",
        "            if v:\n",
        "                current_weight += self.items[i][0]\n",
        "                current_value += self.items[i][1]\n",
        "        return [deepcopy(arrange), current_weight, current_value]\n",
        "\n",
        "    def set_measured_neighbors(self, neighbors):\n",
        "        self.classifiedCombinations = []\n",
        "        for i in neighbors:\n",
        "            tmp = self.get_classified_arrange(i)\n",
        "            self.classifiedCombinations.append(tmp)\n",
        "\n",
        "    def best_neighbor(self, neighbors):\n",
        "        self.set_measured_neighbors(neighbors)\n",
        "        filtered_neighbors = self.fix_neighbors()\n",
        "        best = filtered_neighbors[0]\n",
        "        for i in filtered_neighbors:\n",
        "            if i[2] > best[2]:\n",
        "                best = i\n",
        "        return best[0]\n",
        "\n",
        "    def fix_neighbors(self):\n",
        "        fixed_neighbors = []\n",
        "        for i in self.classifiedCombinations:\n",
        "            if i[0] in self.tabooList or i[1] > MAX_WEIGHT:\n",
        "                continue\n",
        "            fixed_neighbors.append(i)\n",
        "        return fixed_neighbors"
      ],
      "metadata": {
        "id": "Fbvz2UVs9puH"
      },
      "execution_count": 3,
      "outputs": []
    },
    {
      "cell_type": "code",
      "source": [
        "def taboo_search(maxiterations=5000, tabooguider=None, initConfig=None):\n",
        "    counter = 0\n",
        "    relativecounter = 0\n",
        "    solution = initConfig\n",
        "    bestsolution = initConfig\n",
        "    knapsack = Knapsack()\n",
        "    knapsack.set_arrange(solution)\n",
        "    tabooguider.set_taboo_list(solution)\n",
        "    while counter - relativecounter <= maxiterations:\n",
        "        tabooguider.perform_taboo_list()\n",
        "        solution = tabooguider.best_neighbor(knapsack.neighbors)\n",
        "        if tabooguider.get_classified_arrange(solution)[2] > tabooguider.get_classified_arrange(bestsolution)[2]:\n",
        "            bestsolution = solution\n",
        "            relativecounter = deepcopy(counter)\n",
        "        tabooguider.set_taboo_list(solution)\n",
        "        knapsack.set_arrange(solution)\n",
        "        counter += 1\n",
        "    classified = tabooguider.get_classified_arrange(bestsolution)\n",
        "    return f'knapsack final state is: {classified[0]} at value:{classified[2]} and weight:{classified[1]}'\n",
        "\n",
        "\n",
        "def get_random_start(): #gets random start weighting less than 275\n",
        "    while True:\n",
        "        tmp = 0\n",
        "        random_arrange = [random.randint(0,1) for i in items]\n",
        "        for i, v in enumerate(random_arrange):\n",
        "            if v:\n",
        "                tmp += items[i][0]\n",
        "        if tmp < MAX_WEIGHT:\n",
        "            return random_arrange"
      ],
      "metadata": {
        "id": "XIVI2srd9xrR"
      },
      "execution_count": 4,
      "outputs": []
    },
    {
      "cell_type": "code",
      "source": [
        "randomstart = get_random_start()\n",
        "tabooguider = TabooGuider(best_solution=randomstart)\n",
        "classified = tabooguider.get_classified_arrange(randomstart)\n",
        "print(f'random generated state: {classified[0]}, with value:{classified[2]}, and weight:{classified[1]}')\n",
        "finalsolution = taboo_search(initConfig=randomstart, tabooguider=tabooguider)\n",
        "print(finalsolution)"
      ],
      "metadata": {
        "colab": {
          "base_uri": "https://localhost:8080/"
        },
        "id": "rsRkN1j09z5y",
        "outputId": "a15a2f74-b999-457a-86d6-46e0e3bd1aaa"
      },
      "execution_count": 5,
      "outputs": [
        {
          "output_type": "stream",
          "name": "stdout",
          "text": [
            "random generated state: [1, 1, 0, 0, 0, 1, 0, 0, 0, 1, 0, 0, 1, 0, 0], with value:50, and weight:237\n",
            "knapsack final state is: [1, 0, 1, 1, 1, 1, 1, 0, 0, 0, 1, 1, 1, 0, 1] at value:142 and weight:270\n"
          ]
        }
      ]
    }
  ]
}