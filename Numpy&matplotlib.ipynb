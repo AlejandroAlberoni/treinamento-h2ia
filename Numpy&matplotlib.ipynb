{
  "nbformat": 4,
  "nbformat_minor": 0,
  "metadata": {
    "colab": {
      "name": "Numpy&matplotlib.ipynb",
      "provenance": [],
      "collapsed_sections": []
    },
    "kernelspec": {
      "name": "python3",
      "display_name": "Python 3"
    },
    "language_info": {
      "name": "python"
    }
  },
  "cells": [
    {
      "cell_type": "markdown",
      "source": [
        "# **Resumo básico de Numpy**"
      ],
      "metadata": {
        "id": "JQGXh3__N-Za"
      }
    },
    {
      "cell_type": "markdown",
      "source": [
        "Numpy é uma biblioteca open-source para python que conta com funcionalidades extremamente úteis para programação em alto desempenho, por já contar com diversos **métodos** e **atributos** especializados.\n"
      ],
      "metadata": {
        "id": "Hr_wAb9UOGQL"
      }
    },
    {
      "cell_type": "markdown",
      "source": [
        "*Podemos criar um array unidimensional assim:*\n"
      ],
      "metadata": {
        "id": "uY2JjqyEqkri"
      }
    },
    {
      "cell_type": "code",
      "source": [
        "import numpy"
      ],
      "metadata": {
        "id": "yFiNaQ_Ht690"
      },
      "execution_count": 1,
      "outputs": []
    },
    {
      "cell_type": "code",
      "source": [
        "arr_uni = numpy.array([1, 2, 3, 4]) #Nota: ao criarmos qualquer tipo de array podemos especificar o tipo com o parâmetro dtype durante a criação do array.\n",
        "\n",
        "print(arr_uni)\n",
        "\n",
        "print(arr_uni.shape, arr_uni.ndim) # Com estes atributos podemos ver o formato e número de dimensões do array.\n",
        "\n",
        "arr_uni = arr_uni.reshape((2,2))  # Podemos redimensionar arrays assim\n",
        "print(arr_uni)"
      ],
      "metadata": {
        "id": "tqsmkM3cr02c"
      },
      "execution_count": null,
      "outputs": []
    },
    {
      "cell_type": "markdown",
      "source": [
        "*Arrays Bidimensionais:*"
      ],
      "metadata": {
        "id": "l215sklhrqcO"
      }
    },
    {
      "cell_type": "code",
      "source": [
        "arr_bi = numpy.array([[1, 2, 3, 4], [5, 6, 7, 8]])\n",
        "print(arr_bi)"
      ],
      "metadata": {
        "id": "Zic3K_1ZPVuI"
      },
      "execution_count": null,
      "outputs": []
    },
    {
      "cell_type": "markdown",
      "source": [
        "*Matriz identidade:*"
      ],
      "metadata": {
        "id": "Y_Pj-Q5aB_kl"
      }
    },
    {
      "cell_type": "code",
      "source": [
        "identidade = numpy.identity(10)\n",
        "\n",
        "print(identidade)"
      ],
      "metadata": {
        "id": "NLakhYzrCCOj"
      },
      "execution_count": null,
      "outputs": []
    },
    {
      "cell_type": "markdown",
      "source": [
        "*Arrays preenchidos com zero ou um:*"
      ],
      "metadata": {
        "id": "MboTeV6d4KTo"
      }
    },
    {
      "cell_type": "code",
      "source": [
        "arr_zeros = numpy.zeros(4)  # Com 0\n",
        "print(arr_zeros)\n",
        "\n",
        "arr_ones = numpy.ones(4)  # Com 1\n",
        "print(arr_ones)"
      ],
      "metadata": {
        "id": "LAoeJ8Za4DAp"
      },
      "execution_count": null,
      "outputs": []
    },
    {
      "cell_type": "markdown",
      "source": [
        "*Podemos criar arrays sem precisarmos fornecer entradas, linearmente delimitados com:*"
      ],
      "metadata": {
        "id": "HgfQ8JdD1RPW"
      }
    },
    {
      "cell_type": "code",
      "source": [
        "selfgen_arr = numpy.linspace(2,10,5)\n",
        "print(selfgen_arr)"
      ],
      "metadata": {
        "id": "MlNo4Ayb1b0B"
      },
      "execution_count": null,
      "outputs": []
    },
    {
      "cell_type": "markdown",
      "source": [
        "*Também podemos utilizar a classe random incluida em numpy para gerar valores aleatórios:*"
      ],
      "metadata": {
        "id": "Hp0Nbtfy7g4w"
      }
    },
    {
      "cell_type": "code",
      "source": [
        "arr_rand = numpy.array(numpy.random.randint(10,size=4)) # criando array entre 1 e 10\n",
        "\n",
        "print(arr_rand)\n",
        "\n",
        "numpy.random.sample() # Criando frações entre 0 e 1"
      ],
      "metadata": {
        "id": "WTjnp7zv8Hhy"
      },
      "execution_count": null,
      "outputs": []
    },
    {
      "cell_type": "markdown",
      "source": [
        "*Numpy também é versátil para programação estatística e operações matriciais:*"
      ],
      "metadata": {
        "id": "APqRRExGTLKm"
      }
    },
    {
      "cell_type": "code",
      "source": [
        "#criamos um array randômico\n",
        "\n",
        "statistic_arr = numpy.array(numpy.random.randint(100, size=10))\n",
        "print(f'{statistic_arr} array randômico')\n",
        "\n",
        "statistic_arr = statistic_arr + 10    # Soma em todo o array (as demais operações aritméticas também estão disponíveis)\n",
        "print(f'{statistic_arr} Somando 10')\n",
        "\n",
        "\n",
        "arr_2_mul = [2 for i in range(len(statistic_arr))]    # Array preenchido com 2's só para usar o método de multiplicação do numpy\n",
        "print(f'{numpy.multiply(arr_2_mul, statistic_arr)} multiplicado por 2')\n",
        "\n",
        "print(f'{numpy.sum(statistic_arr)} Soma')\n",
        "print(f'{numpy.std(statistic_arr)} Desvio padrão')\n",
        "print(f'{numpy.average(statistic_arr)} Média aritmética')\n",
        "print(f'{numpy.median(statistic_arr)} Mediana')\n",
        "print(f'{numpy.prod(statistic_arr)} Produto de todos os elementos')\n",
        "print(f'{numpy.var(statistic_arr)} Variância')\n",
        "print(f'{numpy.min(statistic_arr)} Mínimo')\n",
        "print(f'{numpy.max(statistic_arr)} Máximo')"
      ],
      "metadata": {
        "id": "d2mQIpLhTVUi"
      },
      "execution_count": null,
      "outputs": []
    },
    {
      "cell_type": "markdown",
      "source": [
        "*Podemos selecionar parte específica do ndarray assim:*"
      ],
      "metadata": {
        "id": "e_4C88Xw7yMr"
      }
    },
    {
      "cell_type": "code",
      "source": [
        "arr1 = numpy.arange(100)\n",
        "\n",
        "print(arr1[arr1 > 50]) #Este pega o literal\n",
        "\n",
        "print(arr1 > 50) # Este mapeia com o resultado do condicional"
      ],
      "metadata": {
        "id": "T0LzzVN67pFk"
      },
      "execution_count": null,
      "outputs": []
    },
    {
      "cell_type": "markdown",
      "source": [
        "# **Matplotlib**"
      ],
      "metadata": {
        "id": "c5u_3NyqM7H4"
      }
    },
    {
      "cell_type": "markdown",
      "source": [
        "*Matplotlib é uma biblioteca para visualização de dados.*"
      ],
      "metadata": {
        "id": "H85OygTDNB0q"
      }
    },
    {
      "cell_type": "code",
      "source": [
        "import matplotlib.pyplot as plt\n",
        "import numpy"
      ],
      "metadata": {
        "id": "wNx56ISGNJiq"
      },
      "execution_count": 5,
      "outputs": []
    },
    {
      "cell_type": "markdown",
      "source": [
        "*Para criarmos um gráfico simplesmente criamos arrays que servirão como axis, e os plotamos:*"
      ],
      "metadata": {
        "id": "5K-GdYQtcpJU"
      }
    },
    {
      "cell_type": "code",
      "source": [
        "x = numpy.array([0, 1, 2, 3, 4, 5, 6, 7, 8, 9])\n",
        "y = numpy.array(numpy.random.randint(100, size=10)) # Esta é a imagem(f(x)) do gráfico mostrado abaixo\n",
        "\n",
        "plt.plot(x,y)\n",
        "plt.show()"
      ],
      "metadata": {
        "id": "plST5FslcopX"
      },
      "execution_count": null,
      "outputs": []
    },
    {
      "cell_type": "markdown",
      "source": [
        "*Assim criamos os rótulos dos axis e o título do gráfico:*"
      ],
      "metadata": {
        "id": "iehL9Wufi8Mt"
      }
    },
    {
      "cell_type": "code",
      "source": [
        "plt.xlabel(\"Time\")  \n",
        "plt.ylabel(\"Speed\")\n",
        "plt.title(\"Velocidade\")\n",
        "\n",
        "plt.grid()  #Também podemos colocar uma malha assim\n",
        "\n",
        "plt.plot(x,y)\n",
        "plt.show()"
      ],
      "metadata": {
        "id": "ROmXeVSAi-ek"
      },
      "execution_count": null,
      "outputs": []
    },
    {
      "cell_type": "markdown",
      "source": [
        "*Também podemos modificar o estilo dos pontos e das linhas:*"
      ],
      "metadata": {
        "id": "OxslIowwhPA-"
      }
    },
    {
      "cell_type": "code",
      "source": [
        "#Podemos adicionar markers para facilitar visualização, para ver os disponíveis: https://matplotlib.org/stable/api/markers_api.html#module-matplotlib.markers\n",
        "#para ver os estilos de linhas: https://matplotlib.org/3.5.0/gallery/lines_bars_and_markers/linestyles.html\n",
        "plt.plot(x,y, marker=\"o\", linestyle=\"dashed\")\n",
        "plt.show()"
      ],
      "metadata": {
        "id": "AjBZZK2shTFx"
      },
      "execution_count": null,
      "outputs": []
    },
    {
      "cell_type": "markdown",
      "source": [
        "*Podemos criar também vários plots de uma vez:*"
      ],
      "metadata": {
        "id": "w68Hv57NEdLQ"
      }
    },
    {
      "cell_type": "code",
      "source": [
        "fig1 = plt.subplot(1, 3, 1)\n",
        "fig1.plot(x, y)\n",
        "fig1.set_title(\"Figura 1\")\n",
        "\n",
        "fig2 = plt.subplot(1, 3, 2)\n",
        "fig2.plot(x, y)\n",
        "fig2.set_title(\"Figura 2\")\n",
        "\n",
        "fig3 = plt.subplot(1, 3, 3)\n",
        "fig3.plot(x, y)\n",
        "fig3.set_title(\"Figura 3\")\n",
        "\n",
        "plt.suptitle(\"Figuras\")\n",
        "plt.show()"
      ],
      "metadata": {
        "id": "JEp-VHVkJgt2"
      },
      "execution_count": null,
      "outputs": []
    },
    {
      "cell_type": "markdown",
      "source": [
        "*Outro tipo de gráfico importante também é o scatter(gráfico de dispersão), que maiormente serve para comparar dados entre duas variáveis :*"
      ],
      "metadata": {
        "id": "_1wABouPMLFR"
      }
    },
    {
      "cell_type": "code",
      "source": [
        "tamanho = numpy.random.randint(100, size=10)  # Podemos relevar peculiaridades de dados quantificando-os como tamanho(argumento sizes) no scatter \n",
        "plt.scatter(x, y, sizes=tamanho, alpha=0.6) #sizes para o tamanho, e alpha para transparência, torna melhor a visibilidade quando há muitos dados\n",
        "plt.show()"
      ],
      "metadata": {
        "id": "YEKyeliPMPLD"
      },
      "execution_count": null,
      "outputs": []
    },
    {
      "cell_type": "markdown",
      "source": [
        "*Também podemos criar gráficos de barras:*"
      ],
      "metadata": {
        "id": "jWDn0iU0QrDP"
      }
    },
    {
      "cell_type": "code",
      "source": [
        "plt.bar(x,y)\n",
        "\n",
        "plt.show()"
      ],
      "metadata": {
        "id": "-UbITNRaQv0u"
      },
      "execution_count": null,
      "outputs": []
    },
    {
      "cell_type": "markdown",
      "source": [
        "*Outro tipo de gráfico importante são os histogramas, associados com distribuições:*"
      ],
      "metadata": {
        "id": "wrTIuWDxSe5y"
      }
    },
    {
      "cell_type": "code",
      "source": [
        "histo = numpy.random.normal(170, 1, 250)\n",
        "plt.hist(histo)\n",
        "plt.show()"
      ],
      "metadata": {
        "id": "3Y_mJzPRSedV"
      },
      "execution_count": null,
      "outputs": []
    },
    {
      "cell_type": "markdown",
      "source": [
        "*Também os famosos gráficos de pizza:*"
      ],
      "metadata": {
        "id": "4r6J6h0FUGaN"
      }
    },
    {
      "cell_type": "code",
      "source": [
        "pizza = numpy.array(numpy.random.randint(100, size=4))\n",
        "inf = numpy.arange(len(pizza))\n",
        "plt.pie(pizza, labels=inf)  # Podemos nominar as secções com o argumento do parâmetro labels\n",
        "\n",
        "plt.show()"
      ],
      "metadata": {
        "id": "9oXe5okWUKBW"
      },
      "execution_count": null,
      "outputs": []
    }
  ]
}